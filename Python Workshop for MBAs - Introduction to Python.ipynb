{
 "cells": [
  {
   "cell_type": "markdown",
   "metadata": {},
   "source": [
    "### OSG Digital - Python Workshop for MBAs\n",
    "\n",
    "# Introduction to Python\n",
    "\n",
    "### Brief note on how to use a Jupyter notebook\n",
    "\n",
    "If you have never used a Jupyter notebook, the next few shortcuts should prove extremely useful. Below `:` indicates that you should release the previous key and enter the next one. On the other hand `+` indicates that you should press both keys simultaneously.\n",
    "\n",
    "The *current cell* designates the cell in which you currently have your cursor. \n",
    "\n",
    "* `ESC:A` (resp. `ESC:B`) adds a new cell above (resp. below) the current one.\n",
    "* `ESC:D:D` deletes the current cell\n",
    "* `MAJ+ENTER` executes the current cell\n",
    "* `ESC:L` toggles the line numbering in the current cell\n",
    "* `ESC:M` changes the current cell to a **markdown** cell (a cell in which you can write formatted text)\n",
    "* `ESC:Y` changes the current cell to a **code** cell (opposite effect)\n",
    "\n",
    "**for Windows and linux users: \n",
    "replace `ESC` by `Ctrl + M` **"
   ]
  },
  {
   "cell_type": "code",
   "execution_count": null,
   "metadata": {},
   "outputs": [],
   "source": []
  },
  {
   "cell_type": "markdown",
   "metadata": {},
   "source": [
    "# Introduction to Python\n",
    "\n",
    "Before we start, please ensure the following libraries are installed by executing the following script:"
   ]
  },
  {
   "cell_type": "code",
   "execution_count": null,
   "metadata": {},
   "outputs": [],
   "source": [
    "import numpy as np\n",
    "import pandas as pd\n",
    "import seaborn as sns\n",
    "import matplotlib.pyplot as plt\n",
    "\n",
    "# to print out plot within cells\n",
    "%matplotlib inline\n",
    "\n",
    "print(\"libraries all imported, ready to go\")"
   ]
  },
  {
   "cell_type": "markdown",
   "metadata": {},
   "source": [
    "If not, please install it in your terminal by typing the following \n",
    "\n",
    "* `pip install %the package name%` "
   ]
  },
  {
   "cell_type": "markdown",
   "metadata": {},
   "source": [
    "# Mathematical operations\n",
    "\n",
    "Every programming language has some kind of way of doing numbers and math. Here are the way python does maths\n",
    "\n",
    "* \\+ plus\n",
    "* \\- minus\n",
    "* \\* times\n",
    "* / division\n",
    "* \\*\\* to the power\n",
    "* % modulo math (remainder)"
   ]
  },
  {
   "cell_type": "code",
   "execution_count": 25,
   "metadata": {},
   "outputs": [
    {
     "name": "stdout",
     "output_type": "stream",
     "text": [
      "0.5\n",
      "1.0\n",
      "1.5\n",
      "nan\n"
     ]
    }
   ],
   "source": [
    "import numpy as np\n",
    "\n",
    "ls = [1,2,3, np.nan]\n",
    "\n",
    "for value in ls:\n",
    "    print(value/2)"
   ]
  },
  {
   "cell_type": "code",
   "execution_count": null,
   "metadata": {},
   "outputs": [],
   "source": []
  },
  {
   "cell_type": "code",
   "execution_count": 8,
   "metadata": {},
   "outputs": [
    {
     "name": "stdout",
     "output_type": "stream",
     "text": [
      "30\n"
     ]
    }
   ],
   "source": [
    "z = addition(10,20)\n",
    "print(z)"
   ]
  },
  {
   "cell_type": "code",
   "execution_count": null,
   "metadata": {},
   "outputs": [],
   "source": [
    "# What is 1 + 1?\n",
    "1 + 1"
   ]
  },
  {
   "cell_type": "code",
   "execution_count": null,
   "metadata": {},
   "outputs": [],
   "source": [
    "# What is the remainder of 7 divided by 3\n",
    "7 % 3"
   ]
  },
  {
   "cell_type": "markdown",
   "metadata": {},
   "source": [
    "# Boolean Logic\n",
    "\n",
    "In Python we have the following terms (characters and phrases) for determining if something is\n",
    "“True” or “False.” Logic on a computer is all about seeing if some combination of these characters and some variables is True at that point in the program.\n",
    "\n",
    "* and \n",
    "* or \n",
    "* not \n",
    "* != (not equal)\n",
    "* == (equal)\n",
    "* \\>= (greater than or equal)\n",
    "* <= (less than or equal)\n",
    "\n",
    "* True\n",
    "* False\n"
   ]
  },
  {
   "cell_type": "code",
   "execution_count": null,
   "metadata": {},
   "outputs": [],
   "source": [
    "# Try runf this cell\n",
    "\n",
    "# Small, greater, equal, not equal\n",
    "a = 10\n",
    "b = 100\n",
    "print(\"Is a smaller than b？\", a < b)  \n",
    "print(\"a equals to b?\", a == b)  \n",
    "print(\"a not equal to b?\", a != b)  "
   ]
  },
  {
   "cell_type": "code",
   "execution_count": null,
   "metadata": {},
   "outputs": [],
   "source": [
    "# Try more!\n",
    "# Is 'testing' the same as \"testing\"?\n",
    "'testing' == \"testing\""
   ]
  },
  {
   "cell_type": "code",
   "execution_count": null,
   "metadata": {},
   "outputs": [],
   "source": [
    "# What is this?\n",
    "print(1 == 1 and not (\"testing\" == 1 or 1 == 0))"
   ]
  },
  {
   "cell_type": "code",
   "execution_count": null,
   "metadata": {},
   "outputs": [],
   "source": [
    "def add(x, y):\n",
    "    return x+y\n",
    "\n",
    "z = add(10, 5)\n",
    "print(z)"
   ]
  },
  {
   "cell_type": "markdown",
   "metadata": {},
   "source": [
    "# Comment \n",
    "Code Comment is important! It helps other people to understand what your code is. Use # to comment your code. See more examples below."
   ]
  },
  {
   "cell_type": "code",
   "execution_count": null,
   "metadata": {},
   "outputs": [],
   "source": [
    "# This function return the force of an object based on Newton's second law\n",
    "def return_force(m, a):\n",
    "    F = m * a\n",
    "    return F"
   ]
  },
  {
   "cell_type": "markdown",
   "metadata": {},
   "source": [
    "There is also another comment format known as `doc string`"
   ]
  },
  {
   "cell_type": "code",
   "execution_count": null,
   "metadata": {},
   "outputs": [],
   "source": [
    "\"\"\"\n",
    "Doc strings (Document Strings) are usually used to give long comments/documentation to long script/libraries/module\n",
    "\"\"\"\n"
   ]
  },
  {
   "cell_type": "markdown",
   "metadata": {},
   "source": [
    "# Writing Functions\n",
    "\n",
    "A block of organized, reusable code that is used to perform a single, related action. Commenting is especially important for commmunication between Executives and programmer. See the following example."
   ]
  },
  {
   "cell_type": "code",
   "execution_count": null,
   "metadata": {},
   "outputs": [],
   "source": [
    "# Addition\n",
    "def addition(a, b): # Define function name\n",
    "    \"\"\"\n",
    "    I am a docstring, this function is used for addition\n",
    "    \"\"\"\n",
    "    return (a + b)  # Return function will return the answer when you call the function like below\n",
    "\n",
    "addition(1, 2)"
   ]
  },
  {
   "cell_type": "markdown",
   "metadata": {},
   "source": [
    "You can include mulitple statements and action in the function."
   ]
  },
  {
   "cell_type": "code",
   "execution_count": null,
   "metadata": {},
   "outputs": [],
   "source": [
    "def cheese_and_crackers(cheese_count, boxes_of_crackers):\n",
    "    print (\"You have %d cheeses!\" % cheese_count)\n",
    "    print (\"You have %d boxes of crackers!\" % boxes_of_crackers)\n",
    "    print (\"Man that's enough for a party!\")\n",
    "    print (\"Get \\n a \\n blanket.\\n\")"
   ]
  },
  {
   "cell_type": "code",
   "execution_count": null,
   "metadata": {
    "scrolled": true
   },
   "outputs": [],
   "source": [
    "# Execute the function\n",
    "cheese_and_crackers(10, 100)"
   ]
  },
  {
   "cell_type": "code",
   "execution_count": null,
   "metadata": {},
   "outputs": [],
   "source": [
    "# Write a function that square its input\n",
    "def square_input(happy):\n",
    "    return happy ** 2"
   ]
  },
  {
   "cell_type": "code",
   "execution_count": null,
   "metadata": {},
   "outputs": [],
   "source": [
    "square_input(10)"
   ]
  },
  {
   "cell_type": "markdown",
   "metadata": {},
   "source": [
    "# If-conditioning \n",
    "\n",
    "Run the following example, and see if you understands?"
   ]
  },
  {
   "cell_type": "code",
   "execution_count": 5,
   "metadata": {},
   "outputs": [
    {
     "name": "stdout",
     "output_type": "stream",
     "text": [
      "How many pounds does your suitcase weigh?1\n",
      "We will not charge you any extra\n",
      "Thank you for your business.\n"
     ]
    }
   ],
   "source": [
    "weight = float(input(\"How many pounds does your suitcase weigh?\"))\n",
    "if weight > 50:\n",
    "    print(\"There is a $25 charge for luggage that heavy.\")\n",
    "else:\n",
    "    print(\"We will not charge you any extra\")\n",
    "    print(\"Thank you for your business.\")"
   ]
  },
  {
   "cell_type": "code",
   "execution_count": 12,
   "metadata": {},
   "outputs": [
    {
     "name": "stdout",
     "output_type": "stream",
     "text": [
      "bye\n"
     ]
    }
   ],
   "source": [
    "if 1 > 2:\n",
    "    print(\"haha\")\n",
    "elif 10 < 9:\n",
    "    print(\"yah\")\n",
    "else:\n",
    "    print(\"bye\")"
   ]
  },
  {
   "cell_type": "markdown",
   "metadata": {},
   "source": [
    "## Exercise:\n",
    "Write a function that takes in two 2-digit number and return the product of them. However, if the first number has more than 2 digits, return `\"Mental math is too hard for me\"`. If the first number has less than 2 digit, return `\"this is too easy for me\"`.\n",
    "\n",
    "Hint: use `elif`"
   ]
  },
  {
   "cell_type": "code",
   "execution_count": 13,
   "metadata": {},
   "outputs": [],
   "source": [
    "#Try it out yourself!\n",
    "def exercise(x, y):\n",
    "    if x >= 100:\n",
    "        return \"Mental Maths ....\"\n",
    "    elif x < 10:\n",
    "        return \"This is too easy for me\"\n",
    "    else:\n",
    "        return x * y"
   ]
  },
  {
   "cell_type": "code",
   "execution_count": 14,
   "metadata": {},
   "outputs": [
    {
     "data": {
      "text/plain": [
       "50"
      ]
     },
     "execution_count": 14,
     "metadata": {},
     "output_type": "execute_result"
    }
   ],
   "source": [
    "exercise(10,5)"
   ]
  },
  {
   "cell_type": "markdown",
   "metadata": {},
   "source": [
    "## If Challenge: XOR\n",
    "\n",
    "The XOR gate (sometimes EOR gate, or EXOR gate and pronounced as Exclusive OR gate) is a digital logic gate that gives a true (1 or HIGH) output when the number of true inputs is odd. \n",
    "\n",
    "Can you use the operand we have learnt just now to get the following truth table?\n",
    "\n",
    "|True|False  | True? |\n",
    "|----| ------------- | ------------- |\n",
    "|1| 1  | 0  |\n",
    "|1| 0  | 1  |\n",
    "|0| 1  | 1  |\n",
    "|0| 0  | 0  |\n",
    "\n"
   ]
  },
  {
   "cell_type": "code",
   "execution_count": null,
   "metadata": {},
   "outputs": [],
   "source": [
    "# Using if conditioning to write a function that executes XOR\n"
   ]
  },
  {
   "cell_type": "markdown",
   "metadata": {},
   "source": [
    "# While loop\n",
    "\n",
    "Loops are used to repeatedly execute a block of program statements.\n",
    "\n",
    "The while loop runs as long as the expression (condition) evaluates to True and execute the program block. The condition is checked every time at the beginning of the loop and the first time when the expression evaluates to False, the loop stops without executing any remaining statement(s). "
   ]
  },
  {
   "cell_type": "code",
   "execution_count": 15,
   "metadata": {
    "scrolled": false
   },
   "outputs": [
    {
     "name": "stdout",
     "output_type": "stream",
     "text": [
      "0\n",
      "1\n",
      "2\n",
      "3\n",
      "4\n",
      "5\n",
      "6\n",
      "7\n",
      "8\n",
      "9\n"
     ]
    }
   ],
   "source": [
    "# Run the following code and see what happens\n",
    "x = 0\n",
    "while x**2 < 100:\n",
    "    print(x)\n",
    "    x = x + 1"
   ]
  },
  {
   "cell_type": "code",
   "execution_count": 16,
   "metadata": {
    "scrolled": true
   },
   "outputs": [
    {
     "name": "stdout",
     "output_type": "stream",
     "text": [
      "0\n",
      "1\n",
      "4\n",
      "9\n",
      "16\n",
      "25\n",
      "36\n",
      "49\n",
      "64\n",
      "81\n"
     ]
    }
   ],
   "source": [
    "x = 0\n",
    "while x**2 < 100:\n",
    "    print(x**2)\n",
    "    x += 1"
   ]
  },
  {
   "cell_type": "markdown",
   "metadata": {},
   "source": [
    "# For loop\n",
    "\n",
    "The for loop that is used to iterate over elements of a sequence, it is often \n",
    "used when you have a piece of code which you want to repeat \"n\" number of time. \n"
   ]
  },
  {
   "cell_type": "code",
   "execution_count": 21,
   "metadata": {
    "scrolled": true
   },
   "outputs": [
    {
     "name": "stdout",
     "output_type": "stream",
     "text": [
      "0\n",
      "1\n",
      "2\n",
      "3\n",
      "4\n",
      "5\n",
      "6\n",
      "7\n",
      "8\n",
      "9\n"
     ]
    }
   ],
   "source": [
    "for x in range(10):\n",
    "    print (x)"
   ]
  },
  {
   "cell_type": "code",
   "execution_count": 20,
   "metadata": {},
   "outputs": [
    {
     "name": "stdout",
     "output_type": "stream",
     "text": [
      "0\n",
      "1\n",
      "4\n"
     ]
    }
   ],
   "source": [
    "for x in range(3):\n",
    "    print (x**2)    # x to the power 2"
   ]
  },
  {
   "cell_type": "markdown",
   "metadata": {},
   "source": [
    "Can you explain the difference between while loop and for loop? "
   ]
  },
  {
   "cell_type": "markdown",
   "metadata": {},
   "source": [
    "## Exercise\n",
    "\n",
    "Use a for loop to print out the first 10 odd numbers.\n",
    "\n",
    "Now try it with a while loop."
   ]
  },
  {
   "cell_type": "code",
   "execution_count": 29,
   "metadata": {},
   "outputs": [
    {
     "name": "stdout",
     "output_type": "stream",
     "text": [
      "1\n",
      "3\n",
      "5\n",
      "7\n",
      "9\n",
      "11\n",
      "13\n",
      "15\n",
      "17\n",
      "19\n"
     ]
    }
   ],
   "source": [
    "# Print out the first 10 odd numbers\n",
    "for i in range(10):\n",
    "    z = 2 * i + 1\n",
    "    print(z)"
   ]
  },
  {
   "cell_type": "code",
   "execution_count": null,
   "metadata": {
    "scrolled": true
   },
   "outputs": [],
   "source": [
    "# Question: write a loop and for x = [1,2,..,10] print x**2 , for x = [11,..,20] print 3*x  and\n",
    "#           for x = [21,..,,30] print \"come on, this is boring\"\n",
    "\n",
    "# Hint: adding else if in between and for loop and to know whether a number is in a list, use `in`\n"
   ]
  },
  {
   "cell_type": "markdown",
   "metadata": {},
   "source": [
    "--------------------\n",
    "\n",
    "# Containers\n",
    "\n",
    "Containers in python are objects that store other objects in python. The most common container in python are the following:\n",
    "\n",
    "* list\n",
    "* Numpy array\n",
    "* Dictionaries\n",
    "* Pandas Dictionary"
   ]
  },
  {
   "cell_type": "code",
   "execution_count": 26,
   "metadata": {},
   "outputs": [
    {
     "name": "stdout",
     "output_type": "stream",
     "text": [
      "2\n"
     ]
    }
   ],
   "source": [
    "#list\n",
    "l_1 = [1, 2, 3, 4, 5]\n",
    "print(l_1[1])"
   ]
  },
  {
   "cell_type": "code",
   "execution_count": 27,
   "metadata": {},
   "outputs": [
    {
     "name": "stdout",
     "output_type": "stream",
     "text": [
      "[1, 2, 3, 4, 5, 5, 1, 3, 6, 2]\n"
     ]
    }
   ],
   "source": [
    "l_1 = [1, 2, 3, 4, 5]\n",
    "l_2 = [5, 1, 3, 6, 2]\n",
    "\n",
    "# Add the two list together, what do you expect?\n",
    "print(l_1 + l_2)"
   ]
  },
  {
   "cell_type": "code",
   "execution_count": 28,
   "metadata": {},
   "outputs": [
    {
     "ename": "TypeError",
     "evalue": "unsupported operand type(s) for -: 'list' and 'list'",
     "output_type": "error",
     "traceback": [
      "\u001b[0;31m---------------------------------------------------------------------------\u001b[0m",
      "\u001b[0;31mTypeError\u001b[0m                                 Traceback (most recent call last)",
      "\u001b[0;32m<ipython-input-28-2686e697464d>\u001b[0m in \u001b[0;36m<module>\u001b[0;34m\u001b[0m\n\u001b[1;32m      1\u001b[0m \u001b[0;31m# Subtract the two list？\u001b[0m\u001b[0;34m\u001b[0m\u001b[0;34m\u001b[0m\u001b[0m\n\u001b[0;32m----> 2\u001b[0;31m \u001b[0mprint\u001b[0m\u001b[0;34m(\u001b[0m\u001b[0ml_1\u001b[0m \u001b[0;34m-\u001b[0m \u001b[0ml_2\u001b[0m\u001b[0;34m)\u001b[0m\u001b[0;34m\u001b[0m\u001b[0m\n\u001b[0m",
      "\u001b[0;31mTypeError\u001b[0m: unsupported operand type(s) for -: 'list' and 'list'"
     ]
    }
   ],
   "source": [
    "# Subtract the two list？\n",
    "print(l_1 - l_2)"
   ]
  },
  {
   "cell_type": "markdown",
   "metadata": {},
   "source": [
    "### Exercise \n",
    "\n",
    "1. Write a python program to sum all the items in a list\n",
    "2. Write a python program to get the largest number from a list\n",
    "3. Given the following list \n",
    "    * a_1 = [1,2,3,4,5]\n",
    "    * a_2 = [5,7,8,9,3]\n",
    "    \n",
    "   Compute the average of the two list (consider them as high dimensional data)"
   ]
  },
  {
   "cell_type": "code",
   "execution_count": 30,
   "metadata": {},
   "outputs": [
    {
     "data": {
      "text/plain": [
       "15"
      ]
     },
     "execution_count": 30,
     "metadata": {},
     "output_type": "execute_result"
    }
   ],
   "source": [
    "# Exercise 1\n",
    "ls = [1,2,3,4,5]\n",
    "sum(ls)\n",
    "# Hint: use the method `sum()`\n",
    "# Hint: use for loop and subsetting ie. ls[0] is the first element"
   ]
  },
  {
   "cell_type": "code",
   "execution_count": 31,
   "metadata": {},
   "outputs": [
    {
     "data": {
      "text/plain": [
       "16"
      ]
     },
     "execution_count": 31,
     "metadata": {},
     "output_type": "execute_result"
    }
   ],
   "source": [
    "# exercise 2\n",
    "ls = [5,5,5,5,5,5,5,16]\n",
    "max(ls)\n",
    "# Hint: use the method `max()`"
   ]
  },
  {
   "cell_type": "code",
   "execution_count": 36,
   "metadata": {},
   "outputs": [
    {
     "name": "stdout",
     "output_type": "stream",
     "text": [
      "[3.0, 4.5, 5.5, 6.5, 4.0]\n"
     ]
    }
   ],
   "source": [
    "# exercise 3\n",
    "a_1 = [1,2,3,4,5]\n",
    "a_2 = [5,7,8,9,3]\n",
    "\n",
    "ls = []\n",
    "for i in range(5):\n",
    "    ls.append((a_1[i] + a_2[i])/2)\n",
    "print(ls)"
   ]
  },
  {
   "cell_type": "markdown",
   "metadata": {},
   "source": [
    "## Challenge: Prime numbers \n",
    "\n",
    "Combining what we have done so far, can you write a function that prints out the prime numbers within a range?"
   ]
  },
  {
   "cell_type": "code",
   "execution_count": 51,
   "metadata": {},
   "outputs": [
    {
     "name": "stdout",
     "output_type": "stream",
     "text": [
      "[2, 3, 5, 7, 11, 13, 17, 19, 23, 29, 31, 37, 41, 43, 47, 53, 59, 61, 67, 71, 73, 79, 83, 89, 97, 101, 103, 107, 109, 113, 127, 131, 137, 139, 149, 151, 157, 163, 167, 173, 179, 181, 191, 193, 197, 199, 211, 223, 227, 229, 233, 239, 241, 251, 257, 263, 269, 271, 277, 281, 283, 293, 307, 311, 313, 317, 331, 337, 347, 349, 353, 359, 367, 373, 379, 383, 389, 397, 401, 409, 419, 421, 431, 433, 439, 443, 449, 457, 461, 463, 467, 479, 487, 491, 499, 503, 509, 521, 523, 541, 547, 557, 563, 569, 571, 577, 587, 593, 599, 601, 607, 613, 617, 619, 631, 641, 643, 647, 653, 659, 661, 673, 677, 683, 691, 701, 709, 719, 727, 733, 739, 743, 751, 757, 761, 769, 773, 787, 797, 809, 811, 821, 823, 827, 829, 839, 853, 857, 859, 863, 877, 881, 883, 887, 907, 911, 919, 929, 937, 941, 947, 953, 967, 971, 977, 983, 991, 997]\n"
     ]
    }
   ],
   "source": [
    "ls = []\n",
    "for num in range(1000):\n",
    "    if num > 1:\n",
    "        for i in range(2, num):\n",
    "            if (num%i) == 0 :\n",
    "                break\n",
    "        else:\n",
    "            ls.append(num)\n",
    "print(ls)"
   ]
  },
  {
   "cell_type": "markdown",
   "metadata": {},
   "source": [
    "# Numpy\n",
    "\n",
    "NumPy is the fundamental package for scientific computing with Python. It contains among other things:\n",
    "\n",
    "* a powerful N-dimensional array object\n",
    "* sophisticated (broadcasting) functions\n",
    "* useful linear algebra (eg. np.linalg), Statistics (eg. np.mean()), and random number capabilities (np.random)\n",
    "\n",
    "Besides its obvious scientific uses, NumPy can also be used as an efficient multi-dimensional container of generic data. In the following exercises, you will learn how to use numpy to solve some mathematical problems.\n",
    "\n",
    "### Getting started with Numpy\n",
    "\n",
    "Start by loading the `numpy` library (with alias `np`) and create a first array `a1` corresponding to the following matrix:\n",
    "\n",
    "$m_1 = \\left(\\begin{array}{ccc}1&2&3&4&5\\\\5&4&3&2&1\\end{array}\\right)$\n",
    "\n",
    "using the attribute `dtype` of the array, show that Numpy inferred that it is an array of integers.\n",
    "\n",
    "You can also query the dimension of the array by examining its attribute 'shape'."
   ]
  },
  {
   "cell_type": "code",
   "execution_count": 53,
   "metadata": {},
   "outputs": [],
   "source": [
    "# numpy is pre-installed if you download Anaconda\n",
    "# You have to import libaray before using its functions\n",
    "# General format: import library as short-form\n",
    "# There are many functions/packages in the library. If you only want to use particular function, \n",
    "# you can use the following command: from library import function/package as short-form\n",
    "import numpy as np"
   ]
  },
  {
   "cell_type": "code",
   "execution_count": 65,
   "metadata": {},
   "outputs": [],
   "source": [
    "array_1 = np.array([1,2,3,4,5,6,7,8,9])\n",
    "array_2 = np.array([1,2,3,4,5,6,7,8,9])\n",
    "ls = [1,2,3,4,5,6,7,8,9]"
   ]
  },
  {
   "cell_type": "code",
   "execution_count": 68,
   "metadata": {
    "scrolled": true
   },
   "outputs": [
    {
     "data": {
      "text/plain": [
       "9"
      ]
     },
     "execution_count": 68,
     "metadata": {},
     "output_type": "execute_result"
    }
   ],
   "source": [
    "array_1.max()"
   ]
  },
  {
   "cell_type": "code",
   "execution_count": 70,
   "metadata": {},
   "outputs": [
    {
     "data": {
      "text/plain": [
       "3"
      ]
     },
     "execution_count": 70,
     "metadata": {},
     "output_type": "execute_result"
    }
   ],
   "source": [
    "len([1,2,3])"
   ]
  },
  {
   "cell_type": "code",
   "execution_count": null,
   "metadata": {},
   "outputs": [],
   "source": []
  },
  {
   "cell_type": "code",
   "execution_count": 72,
   "metadata": {},
   "outputs": [
    {
     "name": "stdout",
     "output_type": "stream",
     "text": [
      "[[1. 2. 3. 4. 5.]\n",
      " [5. 4. 3. 2. 1.]]\n",
      "float64\n",
      "(2, 5)\n"
     ]
    }
   ],
   "source": [
    "# Create and display the array\n",
    "m1 = np.array([[1.0,2.0,3.0,4.0,5.0],[5.0,4.0,3.0,2.0,1.0]])\n",
    "print(m1)\n",
    "\n",
    "# Display the type of the array\n",
    "print(m1.dtype)\n",
    "\n",
    "# Display its dimension\n",
    "print(m1.shape)"
   ]
  },
  {
   "cell_type": "code",
   "execution_count": 74,
   "metadata": {},
   "outputs": [
    {
     "name": "stdout",
     "output_type": "stream",
     "text": [
      "[0 1 2 3 4 5]\n"
     ]
    }
   ],
   "source": [
    "# Create array with [0, 1, 2, 3, 4,5]\n",
    "a = np.arange(6)\n",
    "print(a)"
   ]
  },
  {
   "cell_type": "code",
   "execution_count": 76,
   "metadata": {},
   "outputs": [
    {
     "name": "stdout",
     "output_type": "stream",
     "text": [
      "(6,)\n"
     ]
    }
   ],
   "source": [
    "print(a.shape)"
   ]
  },
  {
   "cell_type": "code",
   "execution_count": 77,
   "metadata": {},
   "outputs": [
    {
     "name": "stdout",
     "output_type": "stream",
     "text": [
      "[[0 1 2]\n",
      " [3 4 5]]\n"
     ]
    }
   ],
   "source": [
    "# Reshape the array \n",
    "B = a.reshape(2,3)  ##change the array to 2 x 3 array\n",
    "print(B)"
   ]
  },
  {
   "cell_type": "code",
   "execution_count": 78,
   "metadata": {},
   "outputs": [
    {
     "data": {
      "text/plain": [
       "6"
      ]
     },
     "execution_count": 78,
     "metadata": {},
     "output_type": "execute_result"
    }
   ],
   "source": [
    "# Length of array\n",
    "len(a)"
   ]
  },
  {
   "cell_type": "code",
   "execution_count": 80,
   "metadata": {},
   "outputs": [
    {
     "data": {
      "text/plain": [
       "(2, 3)"
      ]
     },
     "execution_count": 80,
     "metadata": {},
     "output_type": "execute_result"
    }
   ],
   "source": [
    "# Shape of Array\n",
    "B.shape"
   ]
  },
  {
   "cell_type": "code",
   "execution_count": 81,
   "metadata": {},
   "outputs": [
    {
     "name": "stdout",
     "output_type": "stream",
     "text": [
      "[[0. 0. 0.]\n",
      " [0. 0. 0.]]\n",
      "[[1. 1. 1. 1.]\n",
      " [1. 1. 1. 1.]\n",
      " [1. 1. 1. 1.]]\n",
      "[[1. 1.]\n",
      " [1. 1.]\n",
      " [1. 1.]\n",
      " [1. 1.]\n",
      " [1. 1.]\n",
      " [1. 1.]]\n"
     ]
    }
   ],
   "source": [
    "# Create zero arrays, ones arrays or empty array\n",
    "# zero arrays\n",
    "print(np.zeros((2,3)))    #np.zeros(nrow, ncol)\n",
    "\n",
    "# ones array\n",
    "print(np.ones((3,4)))    #np.ones(nrow, ncol)\n",
    "\n",
    "# empty array\n",
    "print(np.empty([6,2]))   #np.empty((2,6))"
   ]
  },
  {
   "cell_type": "code",
   "execution_count": 83,
   "metadata": {},
   "outputs": [
    {
     "data": {
      "text/plain": [
       "array([0., 2., 4.])"
      ]
     },
     "execution_count": 83,
     "metadata": {},
     "output_type": "execute_result"
    }
   ],
   "source": [
    "# create array with 3 number from 0 to 4\n",
    "np.linspace(0, 4, 3)"
   ]
  },
  {
   "cell_type": "code",
   "execution_count": 95,
   "metadata": {},
   "outputs": [
    {
     "name": "stdout",
     "output_type": "stream",
     "text": [
      "[ 1.  3.  5.  7.  9. 11. 13. 15. 17. 19.]\n",
      "10.0\n",
      "[ 2.  4.  6.  8. 10. 12. 14. 16. 18. 20.]\n"
     ]
    }
   ],
   "source": [
    "# Q1. Create a numpy array with the fist 10 odd numbers \n",
    "# Q2. Compute the mean of this array\n",
    "# Q3. Create a numpy array consisting the first 10 even numbers using Q1\n",
    "\n",
    "q1 = np.linspace(1,19,10)\n",
    "print(q1)\n",
    "q2 = q1.mean()\n",
    "print(q2)\n",
    "q3 = q1 + 1\n",
    "print(q3)"
   ]
  },
  {
   "cell_type": "code",
   "execution_count": 98,
   "metadata": {},
   "outputs": [],
   "source": [
    "import matplotlib.pylab as plt\n",
    "\n",
    "%matplotlib inline"
   ]
  },
  {
   "cell_type": "code",
   "execution_count": 108,
   "metadata": {},
   "outputs": [
    {
     "data": {
      "image/png": "[encoded data removed]",
      "text/plain": [
       "<Figure size 432x288 with 1 Axes>"
      ]
     },
     "metadata": {
      "needs_background": "light"
     },
     "output_type": "display_data"
    }
   ],
   "source": [
    "x = np.linspace(0, 10, 300)\n",
    "\n",
    "ls = []\n",
    "for i in range(5):\n",
    "    ls.append(np.sin(i * x))\n",
    "    plt.plot(x, ls[i])"
   ]
  },
  {
   "cell_type": "code",
   "execution_count": null,
   "metadata": {},
   "outputs": [],
   "source": [
    "# Indexing\n",
    "a = np.arange(10)*3         # each element in array multiply by 3\n",
    "print(a)\n",
    "print(a[2])                 # 3rd element of the array\n",
    "print(a[2:5])               # 3rd to 5th element of the array"
   ]
  },
  {
   "cell_type": "code",
   "execution_count": null,
   "metadata": {},
   "outputs": [],
   "source": [
    "# Manipulate array\n",
    "print(a.mean()) # Mean\n",
    "print(a.std())  # standard deviation\n",
    "print(a.sum())  # sum\n",
    "\n",
    "# Note that we can also compute the mean, standard deviation and sum etc in the following way\n",
    "# np.mean(a) \n",
    "# np.std(a)\n",
    "# np.sum(a)\n",
    "# However the computational time is longer if we use np.function(array)\n",
    "# We will not cover anything about the comptational time in this workshop. (maybe next one!)"
   ]
  },
  {
   "cell_type": "markdown",
   "metadata": {},
   "source": [
    "### General Random Number"
   ]
  },
  {
   "cell_type": "code",
   "execution_count": null,
   "metadata": {},
   "outputs": [],
   "source": [
    "normalnumber = np.random.randn(10) # generate 10 number from standard normal distribution\n",
    "print(normalnumber)"
   ]
  },
  {
   "cell_type": "markdown",
   "metadata": {},
   "source": [
    "# Challenge "
   ]
  },
  {
   "cell_type": "markdown",
   "metadata": {},
   "source": [
    "Consider a 1d array of the form [5,6,7,8,9,…], can you write a function to build a new vector with 4 consective zeros inserted between each value in the array? \n",
    "\n",
    "hint: can use list apprehension and np.array with the .flatten() function."
   ]
  },
  {
   "cell_type": "code",
   "execution_count": null,
   "metadata": {},
   "outputs": [],
   "source": [
    "#Function here \n"
   ]
  },
  {
   "cell_type": "markdown",
   "metadata": {},
   "source": [
    "# Pandas\n",
    "Aim: Handling data, for example merging different datasets and summarzing data"
   ]
  },
  {
   "cell_type": "code",
   "execution_count": null,
   "metadata": {},
   "outputs": [],
   "source": [
    "import pandas as pd"
   ]
  },
  {
   "cell_type": "markdown",
   "metadata": {},
   "source": [
    "### Object Creation"
   ]
  },
  {
   "cell_type": "code",
   "execution_count": null,
   "metadata": {},
   "outputs": [],
   "source": [
    "data1 = pd.DataFrame({'Name': ['Tom', 'Peter', 'Mary', 'Susan'],\n",
    "                      'Age' : np.array([10, 13, 11, np.nan])}, columns=['Name','Age'])\n",
    "data2 = pd.DataFrame({'Name': ['Tom', 'Peter', 'Alan', 'Susan', 'Harry'],\n",
    "                      \"Gender\": ['Male', 'Male', 'Female', 'Female', np.nan]}, columns=['Name','Gender'])"
   ]
  },
  {
   "cell_type": "markdown",
   "metadata": {},
   "source": [
    "### Import Data"
   ]
  },
  {
   "cell_type": "code",
   "execution_count": null,
   "metadata": {},
   "outputs": [],
   "source": [
    "##delimiter: \"\\t\" or  \",\"  or \" \" \n",
    "##header:  'None' or 'infer'   \n",
    "data = pd.read_csv('file path', delimiter='', header='')"
   ]
  },
  {
   "cell_type": "markdown",
   "metadata": {},
   "source": [
    "### View Data"
   ]
  },
  {
   "cell_type": "code",
   "execution_count": null,
   "metadata": {},
   "outputs": [],
   "source": [
    "##first 2 rows of data1\n",
    "data1.head(2) "
   ]
  },
  {
   "cell_type": "code",
   "execution_count": null,
   "metadata": {},
   "outputs": [],
   "source": [
    "##last 2 rows of data2\n",
    "data2.tail(2)"
   ]
  },
  {
   "cell_type": "code",
   "execution_count": null,
   "metadata": {},
   "outputs": [],
   "source": [
    "##obtain the summary of the data  \n",
    "##five number summary, mean, standard deviation and count for numeric value\n",
    "##count, number of unique element, element with highest frequency and the corresponding frequency for categorical variable\n",
    "data1.describe()"
   ]
  },
  {
   "cell_type": "code",
   "execution_count": null,
   "metadata": {},
   "outputs": [],
   "source": [
    "##Sorting\n",
    "data.sort_values(by='B')"
   ]
  },
  {
   "cell_type": "markdown",
   "metadata": {},
   "source": [
    "### Selection of Data"
   ]
  },
  {
   "cell_type": "code",
   "execution_count": null,
   "metadata": {},
   "outputs": [],
   "source": [
    "##select column  \n",
    "##data.A  gives the same result\n",
    "print(data1['Age'])\n",
    "##select row\n",
    "print(data1[0:3])"
   ]
  },
  {
   "cell_type": "code",
   "execution_count": null,
   "metadata": {},
   "outputs": [],
   "source": [
    "##select by position\n",
    "data1.iloc[:,0]"
   ]
  },
  {
   "cell_type": "code",
   "execution_count": null,
   "metadata": {},
   "outputs": [],
   "source": [
    "##Boolean Indexing\n",
    "data1[data1.Name=='Tom']"
   ]
  },
  {
   "cell_type": "markdown",
   "metadata": {},
   "source": [
    "### Missing Value\n",
    "\n",
    "There are many methods to deal with missing value. The easiest way is to drop it. We can fill in particular value\n",
    "but we have to justify the choice."
   ]
  },
  {
   "cell_type": "code",
   "execution_count": null,
   "metadata": {},
   "outputs": [],
   "source": [
    "##Drop value\n",
    "data2.dropna(how='any')"
   ]
  },
  {
   "cell_type": "code",
   "execution_count": null,
   "metadata": {},
   "outputs": [],
   "source": [
    "##Filling data\n",
    "data2.fillna(value='Male')"
   ]
  },
  {
   "cell_type": "markdown",
   "metadata": {},
   "source": [
    "# More to come\n",
    "The datasets usually come from different sources and we have to combine them!\n",
    "\n",
    "We can combine them in different ways:\n",
    "* concatenate\n",
    "* join\n",
    "* append"
   ]
  },
  {
   "cell_type": "code",
   "execution_count": null,
   "metadata": {
    "scrolled": true
   },
   "outputs": [],
   "source": [
    "##Concatenate\n",
    "##axis: 0 or 1  (concatenate along row or column)\n",
    "data3 = pd.concat([data1, data2], axis=0)\n",
    "data4 = pd.concat([data1, data2], axis=1)\n",
    "print(data3)\n",
    "print(data4)"
   ]
  },
  {
   "cell_type": "code",
   "execution_count": null,
   "metadata": {},
   "outputs": [],
   "source": [
    "##Append is a shortcut to concantenate\n",
    "newline = pd.Series(['Steven', 18])\n",
    "RESULT = data1.append(newline, ignore_index=True)\n",
    "print(RESULT)"
   ]
  },
  {
   "cell_type": "code",
   "execution_count": null,
   "metadata": {},
   "outputs": [],
   "source": [
    "##Append is a shortcut to concantenate\n",
    "newline = pd.Series(['Steven', 18])\n",
    "RESULT = data1.append(newline, ignore_index=True)\n",
    "print(RESULT)"
   ]
  },
  {
   "cell_type": "code",
   "execution_count": null,
   "metadata": {},
   "outputs": [],
   "source": [
    "##Merge\n",
    "result = pd.merge(data1, data2, on='Name', how='inner')\n",
    "print(result)\n",
    "# We can use Pandas to do similar things as SQL \n",
    "# SQL equivalent names\n",
    "# SQL: LEFT OUTER JOIN\n",
    "# SQL: RIGHT OUTER JOIN\n",
    "# SQL: FULL OUTER JOIN\n",
    "# SQL: INNER JOIN"
   ]
  },
  {
   "cell_type": "code",
   "execution_count": null,
   "metadata": {},
   "outputs": [],
   "source": [
    "print(result)"
   ]
  },
  {
   "cell_type": "markdown",
   "metadata": {},
   "source": [
    "\n",
    "# Challenge\n",
    "Do LEFT OUTER JOIN, RIGHT OUTER JOIN and INNER JOIN for the above dataframes. What do you see?"
   ]
  },
  {
   "cell_type": "code",
   "execution_count": null,
   "metadata": {},
   "outputs": [],
   "source": [
    "# Exercise\n",
    "# Outer Join\n",
    "\n",
    "# Left Join\n",
    "\n",
    "# Right Join\n",
    "\n",
    "# Can you explain the output?"
   ]
  },
  {
   "cell_type": "markdown",
   "metadata": {},
   "source": [
    "# Matplotlib\n",
    "We like figures!\n",
    "Matplotlib is a library that help visualize data.\n",
    "Advance module: ggplot & seaborn (not include in this workshop)"
   ]
  },
  {
   "cell_type": "code",
   "execution_count": null,
   "metadata": {},
   "outputs": [],
   "source": [
    "import matplotlib.pyplot as plt"
   ]
  },
  {
   "cell_type": "markdown",
   "metadata": {},
   "source": [
    "### Basic Plotting "
   ]
  },
  {
   "cell_type": "code",
   "execution_count": null,
   "metadata": {},
   "outputs": [],
   "source": [
    "# create some data points for y = sin(x) using numpy\n",
    "xmin = -10\n",
    "xmax = 10\n",
    "npts = 100\n",
    "x = np.linspace (xmin, xmax, npts)\n",
    "y = np.sin(x)"
   ]
  },
  {
   "cell_type": "code",
   "execution_count": null,
   "metadata": {},
   "outputs": [],
   "source": [
    "# Plot y=sin(x)\n",
    "plt.plot (x, y, \"b--\") # blue, dotted line\n",
    "plt.plot (x, y, \"ro\")  # red dots, no line\n",
    "plt.show () #show the plot"
   ]
  },
  {
   "cell_type": "code",
   "execution_count": null,
   "metadata": {},
   "outputs": [],
   "source": [
    "# save same image to file \n",
    "# could be in different format, e.g. jpeg, png \n",
    "plt.savefig (\"cos_plot.pdf\")"
   ]
  },
  {
   "cell_type": "code",
   "execution_count": null,
   "metadata": {},
   "outputs": [],
   "source": [
    "##Legend (add description in the figure)\n",
    "plt.plot()                       ##Parameter setting for the figure\n",
    "plt.plot (x, y, linewidth=4)     ##plot \n",
    "plt.title('y=sin(x)')            ##Title for the figure\n",
    "plt.xlabel('x')                  ##x-axis label\n",
    "plt.ylabel('y')                  ##y-axis label\n",
    "plt.axis()\n",
    "plt.show()                       ##Show the figure"
   ]
  },
  {
   "cell_type": "markdown",
   "metadata": {},
   "source": [
    "# Subplot\n",
    "We can plot multiple plots"
   ]
  },
  {
   "cell_type": "code",
   "execution_count": null,
   "metadata": {},
   "outputs": [],
   "source": [
    "# Example\n",
    "(fig, axes) = plt.subplots (nrows = 2, ncols = 2)\n",
    "axes[0,0].plot (x, y, 'b-')\n",
    "axes[1,1].plot (x, y, 'r-')\n",
    "plt.show ()"
   ]
  },
  {
   "cell_type": "markdown",
   "metadata": {},
   "source": [
    "### Exercise"
   ]
  },
  {
   "cell_type": "code",
   "execution_count": null,
   "metadata": {},
   "outputs": [],
   "source": [
    "# General subplot\n",
    "# We want to plot four y=sin(x) graphs with different size and color\n",
    "# Hint:subplot2grid\n",
    "\n",
    "# Answer\n",
    "fig = plt.figure ()\n",
    "ax1 = plt.subplot2grid ((3, 3), (0, 0))\n",
    "ax2 = plt.subplot2grid ((3, 3), (0, 1), colspan=2)\n",
    "ax3 = plt.subplot2grid ((3, 3), (1, 0), rowspan=2, colspan=2)\n",
    "ax4 = plt.subplot2grid ((3, 3), (1, 2), rowspan=2)\n",
    "ax1.plot (x, y, 'r-')\n",
    "ax2.plot (x, y, 'g-')\n",
    "ax3.plot (x, y, 'b-')\n",
    "ax4.plot (x, y, 'c-')\n",
    "plt.show ()"
   ]
  },
  {
   "cell_type": "markdown",
   "metadata": {},
   "source": [
    "There are many more plots you can explore. For example, histogram, countplot, correlation plots, heatmap. Read matplotlib's documentations to know more ! "
   ]
  }
 ],
 "metadata": {
  "kernelspec": {
   "display_name": "Python 3",
   "language": "python",
   "name": "python3"
  },
  "language_info": {
   "codemirror_mode": {
    "name": "ipython",
    "version": 3
   },
   "file_extension": ".py",
   "mimetype": "text/x-python",
   "name": "python",
   "nbconvert_exporter": "python",
   "pygments_lexer": "ipython3",
   "version": "3.6.6"
  }
 },
 "nbformat": 4,
 "nbformat_minor": 2
}
